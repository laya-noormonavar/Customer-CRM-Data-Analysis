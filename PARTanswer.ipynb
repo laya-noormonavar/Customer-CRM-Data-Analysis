{
 "cells": [
  {
   "cell_type": "code",
   "execution_count": 134,
   "id": "78e860af-fdc8-427f-97e7-2e9075432abb",
   "metadata": {},
   "outputs": [
    {
     "name": "stdout",
     "output_type": "stream",
     "text": [
      "Unique CustomerIDs: 1000\n",
      "Total Rows: 1000\n",
      "Nulls in CustomerID: 0\n",
      "Nulls in LeadDate: 0\n",
      "Date Range: 2023-01-01 00:00:00 to 2023-02-11 15:00:00\n"
     ]
    }
   ],
   "source": [
    "import pandas as pd\n",
    "\n",
    "# خواندن فایل و چک کردن\n",
    "df = pd.read_csv(r\"D:\\Laya\\DataScience\\پارت\\fe3abbf0-181d-4621-af4a-0428ff2a53fe_crm part\\crm part\\data.csv\")\n",
    "\n",
    "print(\"Unique CustomerIDs:\", df[\"CustomerID\"].nunique())\n",
    "print(\"Total Rows:\", len(df))\n",
    "print(\"Nulls in CustomerID:\", df[\"CustomerID\"].isna().sum())\n",
    "print(\"Nulls in LeadDate:\", df[\"LeadDate\"].isna().sum())\n",
    "print(\"Date Range:\", df[\"LeadDate\"].min(), \"to\", df[\"LeadDate\"].max())"
   ]
  },
  {
   "cell_type": "code",
   "execution_count": 138,
   "id": "b12740e4-6df3-4cd0-97d7-49235c355f7c",
   "metadata": {},
   "outputs": [
    {
     "name": "stdout",
     "output_type": "stream",
     "text": [
      "✅ فایل cleaned_data.csv \n"
     ]
    }
   ],
   "source": [
    "#  تبدیل تاریخ به فرمت استاندارد\n",
    "\n",
    "df[\"LeadDate\"] = pd.to_datetime(df[\"LeadDate\"], errors=\"coerce\")\n",
    "\n",
    "#  حذف فاصله‌های اضافی از متن‌ها\n",
    "text_columns = [\"LeadSource\", \"Status\", \"Message\", \"Sentiment\", \"Product\"]\n",
    "for col in text_columns:\n",
    "    df[col] = df[col].astype(str).str.strip()\n",
    "\n",
    "#  ساخت ستون‌های محاسباتی\n",
    "df[\"is_conversion\"] = df[\"Status\"].apply(lambda x: 1 if x == \"خرید\" else 0)\n",
    "df[\"is_churn\"] = df[\"Status\"].apply(lambda x: 1 if x == \"لغو\" else 0)\n",
    "\n",
    "# 5. حذف رکوردهای تاریخ یا آی‌دی نامعتبر (در صورت وجود)\n",
    "df = df.dropna(subset=[\"CustomerID\", \"LeadDate\"])\n",
    "\n",
    "# ذخیره فایل تمیز\n",
    "df.to_csv(\"cleaned_data.csv\", index=False, encoding=\"utf-8-sig\")\n",
    "\n",
    "print(\"✅ فایل cleaned_data.csv \")\n"
   ]
  },
  {
   "cell_type": "code",
   "execution_count": 140,
   "id": "31c9581c-0545-423e-86f0-c847a122dc08",
   "metadata": {},
   "outputs": [
    {
     "name": "stdout",
     "output_type": "stream",
     "text": [
      "✅ فایل negative_keywords.csv ساخته شد.\n"
     ]
    },
    {
     "name": "stderr",
     "output_type": "stream",
     "text": [
      "C:\\Users\\LNm\\AppData\\Local\\Temp\\ipykernel_2028\\223100913.py:21: SettingWithCopyWarning: \n",
      "A value is trying to be set on a copy of a slice from a DataFrame.\n",
      "Try using .loc[row_indexer,col_indexer] = value instead\n",
      "\n",
      "See the caveats in the documentation: https://pandas.pydata.org/pandas-docs/stable/user_guide/indexing.html#returning-a-view-versus-a-copy\n",
      "  negative_customers.loc[:, 'clean_message'] = negative_customers['Message'].apply(preprocess)\n"
     ]
    },
    {
     "data": {
      "text/html": [
       "<div>\n",
       "<style scoped>\n",
       "    .dataframe tbody tr th:only-of-type {\n",
       "        vertical-align: middle;\n",
       "    }\n",
       "\n",
       "    .dataframe tbody tr th {\n",
       "        vertical-align: top;\n",
       "    }\n",
       "\n",
       "    .dataframe thead th {\n",
       "        text-align: right;\n",
       "    }\n",
       "</style>\n",
       "<table border=\"1\" class=\"dataframe\">\n",
       "  <thead>\n",
       "    <tr style=\"text-align: right;\">\n",
       "      <th></th>\n",
       "      <th>Word</th>\n",
       "      <th>Frequency</th>\n",
       "    </tr>\n",
       "  </thead>\n",
       "  <tbody>\n",
       "    <tr>\n",
       "      <th>0</th>\n",
       "      <td>پشتیبانی</td>\n",
       "      <td>221</td>\n",
       "    </tr>\n",
       "    <tr>\n",
       "      <th>1</th>\n",
       "      <td>کیفیت</td>\n",
       "      <td>140</td>\n",
       "    </tr>\n",
       "    <tr>\n",
       "      <th>2</th>\n",
       "      <td>اشتراک</td>\n",
       "      <td>132</td>\n",
       "    </tr>\n",
       "    <tr>\n",
       "      <th>3</th>\n",
       "      <td>ماژول</td>\n",
       "      <td>131</td>\n",
       "    </tr>\n",
       "    <tr>\n",
       "      <th>4</th>\n",
       "      <td>نرمافزار</td>\n",
       "      <td>126</td>\n",
       "    </tr>\n",
       "  </tbody>\n",
       "</table>\n",
       "</div>"
      ],
      "text/plain": [
       "       Word  Frequency\n",
       "0  پشتیبانی        221\n",
       "1     کیفیت        140\n",
       "2    اشتراک        132\n",
       "3     ماژول        131\n",
       "4  نرمافزار        126"
      ]
     },
     "metadata": {},
     "output_type": "display_data"
    }
   ],
   "source": [
    "# سه دلیل نارضایتی مشتری ها\n",
    "\n",
    "from sklearn.feature_extraction.text import CountVectorizer\n",
    "from collections import Counter\n",
    "import re\n",
    "\n",
    "# فیلتر مشتری‌های نارضایتی\n",
    "import pandas as pd\n",
    "import re\n",
    "from sklearn.feature_extraction.text import CountVectorizer\n",
    "from collections import Counter\n",
    "\n",
    "# فیلتر مشتریان ناراضی\n",
    "negative_customers = df[(df['SatisfactionScore'] <= 3) | (df['Sentiment'] == 'منفی')]\n",
    "\n",
    "# پیش‌پردازش متن‌ها\n",
    "def preprocess(text):\n",
    "    text = re.sub(r'[^\\w\\s]', '', str(text))  # حذف علائم نگارشی\n",
    "    return text\n",
    "\n",
    "negative_customers.loc[:, 'clean_message'] = negative_customers['Message'].apply(preprocess)\n",
    "\n",
    "# استخراج کلیدواژه‌ها\n",
    "vectorizer = CountVectorizer(stop_words=['و', 'با','شد', 'بعضی','بشه','زیادی','باعث','باید','که','بود','در','تیم','اما','ولی','این','حال', 'شده','برای', 'از','بهتر', 'تا','میکنه','میرسه','نسبت','به','چند','هنوز', 'حرفهای','برامون', 'خیلی', 'همین'])\n",
    "X = vectorizer.fit_transform(negative_customers['clean_message'])\n",
    "keywords = vectorizer.get_feature_names_out()\n",
    "\n",
    "# شمارش تکرار کلیدواژه‌ها\n",
    "word_counts = X.toarray().sum(axis=0)\n",
    "word_freq = dict(zip(keywords, word_counts))\n",
    "\n",
    "# کلیدواژه‌های پرتکرار (مثلا 20 تا)\n",
    "top_words = Counter(word_freq).most_common(20)\n",
    "\n",
    "# ذخیره در DataFrame و خروجی CSV\n",
    "word_df = pd.DataFrame(top_words, columns=[\"Word\", \"Frequency\"])\n",
    "word_df.to_csv(\"negative_keywords.csv\", index=False, encoding=\"utf-8-sig\")\n",
    "\n",
    "print(\"✅ فایل negative_keywords.csv ساخته شد.\")\n",
    "display(word_df.head())\n"
   ]
  },
  {
   "cell_type": "code",
   "execution_count": 142,
   "id": "f610850e-818a-412c-83e1-a8c48091a17b",
   "metadata": {},
   "outputs": [
    {
     "data": {
      "text/html": [
       "<div>\n",
       "<style scoped>\n",
       "    .dataframe tbody tr th:only-of-type {\n",
       "        vertical-align: middle;\n",
       "    }\n",
       "\n",
       "    .dataframe tbody tr th {\n",
       "        vertical-align: top;\n",
       "    }\n",
       "\n",
       "    .dataframe thead th {\n",
       "        text-align: right;\n",
       "    }\n",
       "</style>\n",
       "<table border=\"1\" class=\"dataframe\">\n",
       "  <thead>\n",
       "    <tr style=\"text-align: right;\">\n",
       "      <th></th>\n",
       "      <th>Product</th>\n",
       "      <th>NegativeMessages</th>\n",
       "    </tr>\n",
       "  </thead>\n",
       "  <tbody>\n",
       "    <tr>\n",
       "      <th>0</th>\n",
       "      <td>ماژول مدیریت تیکت پشتیبانی</td>\n",
       "      <td>20</td>\n",
       "    </tr>\n",
       "    <tr>\n",
       "      <th>1</th>\n",
       "      <td>اشتراک CRM شش‌ماهه</td>\n",
       "      <td>20</td>\n",
       "    </tr>\n",
       "    <tr>\n",
       "      <th>2</th>\n",
       "      <td>ماژول گزارش‌گیری پیشرفته</td>\n",
       "      <td>19</td>\n",
       "    </tr>\n",
       "    <tr>\n",
       "      <th>3</th>\n",
       "      <td>اشتراک CRM یک‌ماهه</td>\n",
       "      <td>16</td>\n",
       "    </tr>\n",
       "    <tr>\n",
       "      <th>4</th>\n",
       "      <td>پکیج کامل CRM (فروش+بازاریابی+پشتیبانی)</td>\n",
       "      <td>14</td>\n",
       "    </tr>\n",
       "    <tr>\n",
       "      <th>5</th>\n",
       "      <td>ماژول اتوماسیون بازاریابی</td>\n",
       "      <td>14</td>\n",
       "    </tr>\n",
       "    <tr>\n",
       "      <th>6</th>\n",
       "      <td>اشتراک CRM یک‌ساله</td>\n",
       "      <td>12</td>\n",
       "    </tr>\n",
       "  </tbody>\n",
       "</table>\n",
       "</div>"
      ],
      "text/plain": [
       "                                   Product  NegativeMessages\n",
       "0               ماژول مدیریت تیکت پشتیبانی                20\n",
       "1                       اشتراک CRM شش‌ماهه                20\n",
       "2                 ماژول گزارش‌گیری پیشرفته                19\n",
       "3                       اشتراک CRM یک‌ماهه                16\n",
       "4  پکیج کامل CRM (فروش+بازاریابی+پشتیبانی)                14\n",
       "5                ماژول اتوماسیون بازاریابی                14\n",
       "6                       اشتراک CRM یک‌ساله                12"
      ]
     },
     "metadata": {},
     "output_type": "display_data"
    }
   ],
   "source": [
    "# فیلتر پیام‌های منفی (رضایت پایین + Sentiment منفی)\n",
    "df_neg = df[(df[\"SatisfactionScore\"] <= 2) & (df[\"Sentiment\"] == \"منفی\")]\n",
    "\n",
    "# شمارش پیام‌های منفی برای هر محصول\n",
    "product_issues = df_neg[\"Product\"].value_counts().reset_index()\n",
    "product_issues.columns = [\"Product\", \"NegativeMessages\"]\n",
    "\n",
    "# ذخیره به CSV\n",
    "product_issues.to_csv(\"negative_messages_by_product.csv\", index=False)\n",
    "\n",
    "# نمایش\n",
    "display(product_issues)\n"
   ]
  },
  {
   "cell_type": "code",
   "execution_count": 114,
   "id": "b0da73d0-248b-4029-bbbc-a41da85a5121",
   "metadata": {},
   "outputs": [
    {
     "data": {
      "text/html": [
       "<div>\n",
       "<style scoped>\n",
       "    .dataframe tbody tr th:only-of-type {\n",
       "        vertical-align: middle;\n",
       "    }\n",
       "\n",
       "    .dataframe tbody tr th {\n",
       "        vertical-align: top;\n",
       "    }\n",
       "\n",
       "    .dataframe thead th {\n",
       "        text-align: right;\n",
       "    }\n",
       "</style>\n",
       "<table border=\"1\" class=\"dataframe\">\n",
       "  <thead>\n",
       "    <tr style=\"text-align: right;\">\n",
       "      <th></th>\n",
       "      <th>LeadSource</th>\n",
       "      <th>NegativeMessages</th>\n",
       "    </tr>\n",
       "  </thead>\n",
       "  <tbody>\n",
       "    <tr>\n",
       "      <th>0</th>\n",
       "      <td>ارجاع مشتری</td>\n",
       "      <td>28</td>\n",
       "    </tr>\n",
       "    <tr>\n",
       "      <th>1</th>\n",
       "      <td>تبلیغ گوگل</td>\n",
       "      <td>28</td>\n",
       "    </tr>\n",
       "    <tr>\n",
       "      <th>2</th>\n",
       "      <td>نمایشگاه</td>\n",
       "      <td>22</td>\n",
       "    </tr>\n",
       "    <tr>\n",
       "      <th>3</th>\n",
       "      <td>اینستاگرام</td>\n",
       "      <td>20</td>\n",
       "    </tr>\n",
       "    <tr>\n",
       "      <th>4</th>\n",
       "      <td>وب‌سایت</td>\n",
       "      <td>17</td>\n",
       "    </tr>\n",
       "  </tbody>\n",
       "</table>\n",
       "</div>"
      ],
      "text/plain": [
       "    LeadSource  NegativeMessages\n",
       "0  ارجاع مشتری                28\n",
       "1   تبلیغ گوگل                28\n",
       "2     نمایشگاه                22\n",
       "3   اینستاگرام                20\n",
       "4      وب‌سایت                17"
      ]
     },
     "metadata": {},
     "output_type": "display_data"
    }
   ],
   "source": [
    "# شمارش پیام‌های منفی برای هر منبع جذب\n",
    "leadsource_issues = df_neg[\"LeadSource\"].value_counts().reset_index()\n",
    "leadsource_issues.columns = [\"LeadSource\", \"NegativeMessages\"]\n",
    "\n",
    "# ذخیره به CSV\n",
    "leadsource_issues.to_csv(\"negative_messages_by_leadsource.csv\", index=False)\n",
    "\n",
    "# نمایش\n",
    "display(leadsource_issues)\n"
   ]
  },
  {
   "cell_type": "code",
   "execution_count": null,
   "id": "060a89ce-e02f-471a-b07d-c3691b3f257b",
   "metadata": {},
   "outputs": [],
   "source": []
  }
 ],
 "metadata": {
  "kernelspec": {
   "display_name": "Python [conda env:base] *",
   "language": "python",
   "name": "conda-base-py"
  },
  "language_info": {
   "codemirror_mode": {
    "name": "ipython",
    "version": 3
   },
   "file_extension": ".py",
   "mimetype": "text/x-python",
   "name": "python",
   "nbconvert_exporter": "python",
   "pygments_lexer": "ipython3",
   "version": "3.11.5"
  }
 },
 "nbformat": 4,
 "nbformat_minor": 5
}
